{
 "cells": [
  {
   "cell_type": "markdown",
   "metadata": {
    "id": "qsIsGzftJuH9"
   },
   "source": [
    "# 장애인콜택시 대기시간 예측\n",
    "## 단계3. 모델링"
   ]
  },
  {
   "cell_type": "code",
   "execution_count": null,
   "metadata": {
    "id": "Xa1PcdmMJGBi"
   },
   "outputs": [],
   "source": [
    "!pip install -r requirements.txt"
   ]
  },
  {
   "cell_type": "markdown",
   "metadata": {
    "id": "kq88g7zGJIJf"
   },
   "source": [
    "#### 2) 라이브러리 로딩"
   ]
  },
  {
   "cell_type": "code",
   "execution_count": 1,
   "metadata": {
    "id": "3rsQerEaELwI"
   },
   "outputs": [],
   "source": [
    "import pandas as pd\n",
    "import numpy as np\n",
    "import matplotlib.pyplot as plt\n",
    "import seaborn as sns\n",
    "\n",
    "import joblib"
   ]
  },
  {
   "cell_type": "code",
   "execution_count": 2,
   "metadata": {
    "id": "FT_JFnclfcQ4"
   },
   "outputs": [],
   "source": [
    "file1 = 'data2.pkl'"
   ]
  },
  {
   "cell_type": "code",
   "execution_count": 3,
   "metadata": {
    "id": "ZpMoNMpcQoQ5"
   },
   "outputs": [],
   "source": [
    "df=joblib.load(file1)"
   ]
  },
  {
   "cell_type": "code",
   "execution_count": 4,
   "metadata": {},
   "outputs": [],
   "source": [
    "df=df.set_index('Date')"
   ]
  },
  {
   "cell_type": "code",
   "execution_count": 5,
   "metadata": {},
   "outputs": [
    {
     "name": "stdout",
     "output_type": "stream",
     "text": [
      "<class 'pandas.core.frame.DataFrame'>\n",
      "DatetimeIndex: 2921 entries, 2015-01-01 to 2022-12-30\n",
      "Data columns (total 24 columns):\n",
      " #   Column           Non-Null Count  Dtype   \n",
      "---  ------           --------------  -----   \n",
      " 0   car_cnt          2921 non-null   int64   \n",
      " 1   request_cnt      2921 non-null   int64   \n",
      " 2   ride_cnt         2921 non-null   int64   \n",
      " 3   waiting_time     2921 non-null   float64 \n",
      " 4   fare             2921 non-null   int64   \n",
      " 5   distance         2921 non-null   int64   \n",
      " 6   temp_max         2921 non-null   float64 \n",
      " 7   temp_min         2921 non-null   float64 \n",
      " 8   rain(mm)         2921 non-null   float64 \n",
      " 9   humidity_max(%)  2921 non-null   float64 \n",
      " 10  humidity_min(%)  2921 non-null   float64 \n",
      " 11  sunshine(MJ/m2)  2921 non-null   float64 \n",
      " 12  target           2921 non-null   float64 \n",
      " 13  weekday          2921 non-null   category\n",
      " 14  month            2921 non-null   category\n",
      " 15  week             2921 non-null   category\n",
      " 16  year             2921 non-null   int32   \n",
      " 17  season           2921 non-null   category\n",
      " 18  is_holiday       2921 non-null   category\n",
      " 19  ride_pro         2921 non-null   float64 \n",
      " 20  humidity         2921 non-null   float64 \n",
      " 21  temp             2921 non-null   float64 \n",
      " 22  is_rainy         2921 non-null   category\n",
      " 23  covid            2921 non-null   int64   \n",
      "dtypes: category(6), float64(11), int32(1), int64(6)\n",
      "memory usage: 439.9 KB\n"
     ]
    }
   ],
   "source": [
    "df.info()"
   ]
  },
  {
   "cell_type": "markdown",
   "metadata": {},
   "source": [
    "\n",
    "* set1: [car_cnt,  waiting_time, distance, temp,humidity, weekday, year,season,is_holiday,ride_pro,is_rainy]\n",
    "* set2: ['car_cnt','request_cnt','ride_cnt','ride_pro', 'waiting_time', 'fare','distance', 'temp',\n",
    "          'humidity','weekday','season','is_holiday','is_rainy','covid,'target']"
   ]
  },
  {
   "cell_type": "markdown",
   "metadata": {
    "id": "OQsk3V6hXSjE"
   },
   "source": [
    "## 2.데이터 준비\n",
    "* **세부요구사항**\n",
    "    * NaN에 대한 조치를 수행하시오.\n",
    "        * rolling 혹은 shift로 발생된 초기 행의 NaN은 삭제해도 무방합니다.\n",
    "    * 가변수화 : 범주형에 대해서 가변수화를 수행합니다.\n",
    "    * 데이터분할\n",
    "        * 시계열 데이터 특성에 맞게 분할합니다.\n",
    "        * 마지막 91일(3개월) 데이터를 검증셋으로 사용합니다."
   ]
  },
  {
   "cell_type": "code",
   "execution_count": 6,
   "metadata": {},
   "outputs": [
    {
     "data": {
      "text/plain": [
       "Index(['car_cnt', 'request_cnt', 'ride_cnt', 'waiting_time', 'fare',\n",
       "       'distance', 'temp_max', 'temp_min', 'rain(mm)', 'humidity_max(%)',\n",
       "       'humidity_min(%)', 'sunshine(MJ/m2)', 'target', 'weekday', 'month',\n",
       "       'week', 'year', 'season', 'is_holiday', 'ride_pro', 'humidity', 'temp',\n",
       "       'is_rainy', 'covid'],\n",
       "      dtype='object')"
      ]
     },
     "execution_count": 6,
     "metadata": {},
     "output_type": "execute_result"
    }
   ],
   "source": [
    "df.columns"
   ]
  },
  {
   "cell_type": "code",
   "execution_count": 7,
   "metadata": {},
   "outputs": [],
   "source": [
    "#컬럼선택\n",
    "#set2\n",
    "set_col= ['car_cnt','request_cnt','ride_cnt','ride_pro', 'waiting_time', 'temp',\n",
    "          'humidity','weekday','season','is_holiday','is_rainy','covid','target']\n",
    "df1=df[set_col]"
   ]
  },
  {
   "cell_type": "code",
   "execution_count": 8,
   "metadata": {
    "scrolled": true
   },
   "outputs": [
    {
     "name": "stdout",
     "output_type": "stream",
     "text": [
      "<class 'pandas.core.frame.DataFrame'>\n",
      "DatetimeIndex: 2921 entries, 2015-01-01 to 2022-12-30\n",
      "Data columns (total 13 columns):\n",
      " #   Column        Non-Null Count  Dtype   \n",
      "---  ------        --------------  -----   \n",
      " 0   car_cnt       2921 non-null   int64   \n",
      " 1   request_cnt   2921 non-null   int64   \n",
      " 2   ride_cnt      2921 non-null   int64   \n",
      " 3   ride_pro      2921 non-null   float64 \n",
      " 4   waiting_time  2921 non-null   float64 \n",
      " 5   temp          2921 non-null   float64 \n",
      " 6   humidity      2921 non-null   float64 \n",
      " 7   weekday       2921 non-null   category\n",
      " 8   season        2921 non-null   category\n",
      " 9   is_holiday    2921 non-null   category\n",
      " 10  is_rainy      2921 non-null   category\n",
      " 11  covid         2921 non-null   int64   \n",
      " 12  target        2921 non-null   float64 \n",
      "dtypes: category(4), float64(5), int64(4)\n",
      "memory usage: 239.7 KB\n"
     ]
    }
   ],
   "source": [
    "df1.info()"
   ]
  },
  {
   "cell_type": "markdown",
   "metadata": {
    "id": "mp_5volyuaA1"
   },
   "source": [
    "### (1) NA 조치"
   ]
  },
  {
   "cell_type": "code",
   "execution_count": 9,
   "metadata": {
    "id": "k3FHGbBVtDkb"
   },
   "outputs": [],
   "source": [
    "# df1.isna().sum()"
   ]
  },
  {
   "cell_type": "markdown",
   "metadata": {
    "id": "nOF9fSLQugGf"
   },
   "source": [
    "### (2) 가변수화"
   ]
  },
  {
   "cell_type": "code",
   "execution_count": 10,
   "metadata": {
    "id": "CZgBC2QSoKc8"
   },
   "outputs": [
    {
     "data": {
      "text/html": [
       "<div>\n",
       "<style scoped>\n",
       "    .dataframe tbody tr th:only-of-type {\n",
       "        vertical-align: middle;\n",
       "    }\n",
       "\n",
       "    .dataframe tbody tr th {\n",
       "        vertical-align: top;\n",
       "    }\n",
       "\n",
       "    .dataframe thead th {\n",
       "        text-align: right;\n",
       "    }\n",
       "</style>\n",
       "<table border=\"1\" class=\"dataframe\">\n",
       "  <thead>\n",
       "    <tr style=\"text-align: right;\">\n",
       "      <th></th>\n",
       "      <th>car_cnt</th>\n",
       "      <th>request_cnt</th>\n",
       "      <th>ride_cnt</th>\n",
       "      <th>ride_pro</th>\n",
       "      <th>waiting_time</th>\n",
       "      <th>temp</th>\n",
       "      <th>humidity</th>\n",
       "      <th>target</th>\n",
       "      <th>weekday_1</th>\n",
       "      <th>weekday_2</th>\n",
       "      <th>weekday_3</th>\n",
       "      <th>weekday_4</th>\n",
       "      <th>weekday_5</th>\n",
       "      <th>weekday_6</th>\n",
       "      <th>season_spring</th>\n",
       "      <th>season_summer</th>\n",
       "      <th>season_winter</th>\n",
       "      <th>is_holiday_1</th>\n",
       "      <th>covid_1</th>\n",
       "      <th>is_rainy_1</th>\n",
       "    </tr>\n",
       "    <tr>\n",
       "      <th>Date</th>\n",
       "      <th></th>\n",
       "      <th></th>\n",
       "      <th></th>\n",
       "      <th></th>\n",
       "      <th></th>\n",
       "      <th></th>\n",
       "      <th></th>\n",
       "      <th></th>\n",
       "      <th></th>\n",
       "      <th></th>\n",
       "      <th></th>\n",
       "      <th></th>\n",
       "      <th></th>\n",
       "      <th></th>\n",
       "      <th></th>\n",
       "      <th></th>\n",
       "      <th></th>\n",
       "      <th></th>\n",
       "      <th></th>\n",
       "      <th></th>\n",
       "    </tr>\n",
       "  </thead>\n",
       "  <tbody>\n",
       "    <tr>\n",
       "      <th>2015-01-01</th>\n",
       "      <td>213</td>\n",
       "      <td>1023</td>\n",
       "      <td>924</td>\n",
       "      <td>90.32</td>\n",
       "      <td>23.2</td>\n",
       "      <td>-5.45</td>\n",
       "      <td>45.5</td>\n",
       "      <td>17.2</td>\n",
       "      <td>0</td>\n",
       "      <td>0</td>\n",
       "      <td>1</td>\n",
       "      <td>0</td>\n",
       "      <td>0</td>\n",
       "      <td>0</td>\n",
       "      <td>0</td>\n",
       "      <td>0</td>\n",
       "      <td>1</td>\n",
       "      <td>1</td>\n",
       "      <td>0</td>\n",
       "      <td>0</td>\n",
       "    </tr>\n",
       "    <tr>\n",
       "      <th>2015-01-02</th>\n",
       "      <td>420</td>\n",
       "      <td>3158</td>\n",
       "      <td>2839</td>\n",
       "      <td>89.90</td>\n",
       "      <td>17.2</td>\n",
       "      <td>-3.40</td>\n",
       "      <td>55.0</td>\n",
       "      <td>26.2</td>\n",
       "      <td>0</td>\n",
       "      <td>0</td>\n",
       "      <td>0</td>\n",
       "      <td>1</td>\n",
       "      <td>0</td>\n",
       "      <td>0</td>\n",
       "      <td>0</td>\n",
       "      <td>0</td>\n",
       "      <td>1</td>\n",
       "      <td>0</td>\n",
       "      <td>0</td>\n",
       "      <td>0</td>\n",
       "    </tr>\n",
       "    <tr>\n",
       "      <th>2015-01-03</th>\n",
       "      <td>209</td>\n",
       "      <td>1648</td>\n",
       "      <td>1514</td>\n",
       "      <td>91.87</td>\n",
       "      <td>26.2</td>\n",
       "      <td>4.20</td>\n",
       "      <td>73.5</td>\n",
       "      <td>24.5</td>\n",
       "      <td>0</td>\n",
       "      <td>0</td>\n",
       "      <td>0</td>\n",
       "      <td>0</td>\n",
       "      <td>1</td>\n",
       "      <td>0</td>\n",
       "      <td>0</td>\n",
       "      <td>0</td>\n",
       "      <td>1</td>\n",
       "      <td>1</td>\n",
       "      <td>0</td>\n",
       "      <td>0</td>\n",
       "    </tr>\n",
       "    <tr>\n",
       "      <th>2015-01-04</th>\n",
       "      <td>196</td>\n",
       "      <td>1646</td>\n",
       "      <td>1526</td>\n",
       "      <td>92.71</td>\n",
       "      <td>24.5</td>\n",
       "      <td>3.50</td>\n",
       "      <td>73.5</td>\n",
       "      <td>26.2</td>\n",
       "      <td>0</td>\n",
       "      <td>0</td>\n",
       "      <td>0</td>\n",
       "      <td>0</td>\n",
       "      <td>0</td>\n",
       "      <td>1</td>\n",
       "      <td>0</td>\n",
       "      <td>0</td>\n",
       "      <td>1</td>\n",
       "      <td>1</td>\n",
       "      <td>0</td>\n",
       "      <td>0</td>\n",
       "    </tr>\n",
       "    <tr>\n",
       "      <th>2015-01-05</th>\n",
       "      <td>421</td>\n",
       "      <td>4250</td>\n",
       "      <td>3730</td>\n",
       "      <td>87.76</td>\n",
       "      <td>26.2</td>\n",
       "      <td>-1.65</td>\n",
       "      <td>63.5</td>\n",
       "      <td>23.6</td>\n",
       "      <td>0</td>\n",
       "      <td>0</td>\n",
       "      <td>0</td>\n",
       "      <td>0</td>\n",
       "      <td>0</td>\n",
       "      <td>0</td>\n",
       "      <td>0</td>\n",
       "      <td>0</td>\n",
       "      <td>1</td>\n",
       "      <td>0</td>\n",
       "      <td>0</td>\n",
       "      <td>1</td>\n",
       "    </tr>\n",
       "  </tbody>\n",
       "</table>\n",
       "</div>"
      ],
      "text/plain": [
       "            car_cnt  request_cnt  ride_cnt  ride_pro  waiting_time  temp  \\\n",
       "Date                                                                       \n",
       "2015-01-01      213         1023       924     90.32          23.2 -5.45   \n",
       "2015-01-02      420         3158      2839     89.90          17.2 -3.40   \n",
       "2015-01-03      209         1648      1514     91.87          26.2  4.20   \n",
       "2015-01-04      196         1646      1526     92.71          24.5  3.50   \n",
       "2015-01-05      421         4250      3730     87.76          26.2 -1.65   \n",
       "\n",
       "            humidity  target  weekday_1  weekday_2  weekday_3  weekday_4  \\\n",
       "Date                                                                       \n",
       "2015-01-01      45.5    17.2          0          0          1          0   \n",
       "2015-01-02      55.0    26.2          0          0          0          1   \n",
       "2015-01-03      73.5    24.5          0          0          0          0   \n",
       "2015-01-04      73.5    26.2          0          0          0          0   \n",
       "2015-01-05      63.5    23.6          0          0          0          0   \n",
       "\n",
       "            weekday_5  weekday_6  season_spring  season_summer  season_winter  \\\n",
       "Date                                                                            \n",
       "2015-01-01          0          0              0              0              1   \n",
       "2015-01-02          0          0              0              0              1   \n",
       "2015-01-03          1          0              0              0              1   \n",
       "2015-01-04          0          1              0              0              1   \n",
       "2015-01-05          0          0              0              0              1   \n",
       "\n",
       "            is_holiday_1  covid_1  is_rainy_1  \n",
       "Date                                           \n",
       "2015-01-01             1        0           0  \n",
       "2015-01-02             0        0           0  \n",
       "2015-01-03             1        0           0  \n",
       "2015-01-04             1        0           0  \n",
       "2015-01-05             0        0           1  "
      ]
     },
     "execution_count": 10,
     "metadata": {},
     "output_type": "execute_result"
    }
   ],
   "source": [
    "# 가변수화\n",
    "dumm_cols1 = ['weekday', 'season','is_holiday','covid','is_rainy']\n",
    "df1 = pd.get_dummies(df1, columns=dumm_cols1, drop_first=True)\n",
    "df1.head()"
   ]
  },
  {
   "cell_type": "code",
   "execution_count": null,
   "metadata": {
    "id": "mKdqMtGjtFSq"
   },
   "outputs": [],
   "source": []
  },
  {
   "cell_type": "markdown",
   "metadata": {
    "id": "WpJEGpUuuVWm"
   },
   "source": [
    "### (3) 데이터분할\n",
    "* **세부요구사항**\n",
    "    * 마지막 91일 간의 데이터를 검증 셋으로 만듭니다. (2022-10-01 ~ )\n",
    "    * 이 기간의 날짜 리스트를 별도로 저장하여, 모델 검증시 시각화할 때 활용합니다."
   ]
  },
  {
   "cell_type": "code",
   "execution_count": 11,
   "metadata": {},
   "outputs": [],
   "source": [
    "df1=df1.reset_index()"
   ]
  },
  {
   "cell_type": "markdown",
   "metadata": {
    "id": "yRR53accpDHL"
   },
   "source": [
    "#### 1) x, y 나누기"
   ]
  },
  {
   "cell_type": "code",
   "execution_count": 137,
   "metadata": {
    "id": "MkhKUJj_vOQD"
   },
   "outputs": [],
   "source": [
    "# train_x=df1.loc[ df1['Date']<'2022-10-01'].drop(columns='target')\n",
    "# train_y=df1['target'].loc[ df1['Date']<'2022-10-01']\n",
    "# test_x=df1.loc['2022-10-01'<=df1['Date']].drop(columns='target')\n",
    "# test_y=df1['target'].loc['2022-10-01'<=df1['Date']]"
   ]
  },
  {
   "cell_type": "code",
   "execution_count": 12,
   "metadata": {},
   "outputs": [],
   "source": [
    "# target 확인\n",
    "target = 'target'\n",
    "\n",
    "# 데이터 분리\n",
    "x = df1.drop(target, axis=1)\n",
    "y = df1.loc[:, target]"
   ]
  },
  {
   "cell_type": "code",
   "execution_count": 13,
   "metadata": {},
   "outputs": [],
   "source": [
    "x_date=x['Date']"
   ]
  },
  {
   "cell_type": "code",
   "execution_count": 14,
   "metadata": {},
   "outputs": [],
   "source": [
    "x=x.drop(columns='Date')"
   ]
  },
  {
   "cell_type": "markdown",
   "metadata": {
    "id": "VBwpOKgkf5Am"
   },
   "source": [
    "#### 2) train : validation 나누기\n",
    "* 힌트 : train_test_split(  ,   ,  test_size = 91, shuffle = False) "
   ]
  },
  {
   "cell_type": "code",
   "execution_count": 15,
   "metadata": {
    "id": "1iHmTnHCgBw5"
   },
   "outputs": [],
   "source": [
    "from sklearn.model_selection import train_test_split\n",
    "x_train, x_test, y_train, y_test = train_test_split(x, y, test_size=91, shuffle=False)"
   ]
  },
  {
   "cell_type": "code",
   "execution_count": 16,
   "metadata": {
    "scrolled": true
   },
   "outputs": [
    {
     "data": {
      "text/html": [
       "<div>\n",
       "<style scoped>\n",
       "    .dataframe tbody tr th:only-of-type {\n",
       "        vertical-align: middle;\n",
       "    }\n",
       "\n",
       "    .dataframe tbody tr th {\n",
       "        vertical-align: top;\n",
       "    }\n",
       "\n",
       "    .dataframe thead th {\n",
       "        text-align: right;\n",
       "    }\n",
       "</style>\n",
       "<table border=\"1\" class=\"dataframe\">\n",
       "  <thead>\n",
       "    <tr style=\"text-align: right;\">\n",
       "      <th></th>\n",
       "      <th>car_cnt</th>\n",
       "      <th>request_cnt</th>\n",
       "      <th>ride_cnt</th>\n",
       "      <th>ride_pro</th>\n",
       "      <th>waiting_time</th>\n",
       "      <th>temp</th>\n",
       "      <th>humidity</th>\n",
       "      <th>weekday_1</th>\n",
       "      <th>weekday_2</th>\n",
       "      <th>weekday_3</th>\n",
       "      <th>weekday_4</th>\n",
       "      <th>weekday_5</th>\n",
       "      <th>weekday_6</th>\n",
       "      <th>season_spring</th>\n",
       "      <th>season_summer</th>\n",
       "      <th>season_winter</th>\n",
       "      <th>is_holiday_1</th>\n",
       "      <th>covid_1</th>\n",
       "      <th>is_rainy_1</th>\n",
       "    </tr>\n",
       "  </thead>\n",
       "  <tbody>\n",
       "    <tr>\n",
       "      <th>0</th>\n",
       "      <td>213</td>\n",
       "      <td>1023</td>\n",
       "      <td>924</td>\n",
       "      <td>90.32</td>\n",
       "      <td>23.2</td>\n",
       "      <td>-5.45</td>\n",
       "      <td>45.5</td>\n",
       "      <td>0</td>\n",
       "      <td>0</td>\n",
       "      <td>1</td>\n",
       "      <td>0</td>\n",
       "      <td>0</td>\n",
       "      <td>0</td>\n",
       "      <td>0</td>\n",
       "      <td>0</td>\n",
       "      <td>1</td>\n",
       "      <td>1</td>\n",
       "      <td>0</td>\n",
       "      <td>0</td>\n",
       "    </tr>\n",
       "    <tr>\n",
       "      <th>1</th>\n",
       "      <td>420</td>\n",
       "      <td>3158</td>\n",
       "      <td>2839</td>\n",
       "      <td>89.90</td>\n",
       "      <td>17.2</td>\n",
       "      <td>-3.40</td>\n",
       "      <td>55.0</td>\n",
       "      <td>0</td>\n",
       "      <td>0</td>\n",
       "      <td>0</td>\n",
       "      <td>1</td>\n",
       "      <td>0</td>\n",
       "      <td>0</td>\n",
       "      <td>0</td>\n",
       "      <td>0</td>\n",
       "      <td>1</td>\n",
       "      <td>0</td>\n",
       "      <td>0</td>\n",
       "      <td>0</td>\n",
       "    </tr>\n",
       "    <tr>\n",
       "      <th>2</th>\n",
       "      <td>209</td>\n",
       "      <td>1648</td>\n",
       "      <td>1514</td>\n",
       "      <td>91.87</td>\n",
       "      <td>26.2</td>\n",
       "      <td>4.20</td>\n",
       "      <td>73.5</td>\n",
       "      <td>0</td>\n",
       "      <td>0</td>\n",
       "      <td>0</td>\n",
       "      <td>0</td>\n",
       "      <td>1</td>\n",
       "      <td>0</td>\n",
       "      <td>0</td>\n",
       "      <td>0</td>\n",
       "      <td>1</td>\n",
       "      <td>1</td>\n",
       "      <td>0</td>\n",
       "      <td>0</td>\n",
       "    </tr>\n",
       "    <tr>\n",
       "      <th>3</th>\n",
       "      <td>196</td>\n",
       "      <td>1646</td>\n",
       "      <td>1526</td>\n",
       "      <td>92.71</td>\n",
       "      <td>24.5</td>\n",
       "      <td>3.50</td>\n",
       "      <td>73.5</td>\n",
       "      <td>0</td>\n",
       "      <td>0</td>\n",
       "      <td>0</td>\n",
       "      <td>0</td>\n",
       "      <td>0</td>\n",
       "      <td>1</td>\n",
       "      <td>0</td>\n",
       "      <td>0</td>\n",
       "      <td>1</td>\n",
       "      <td>1</td>\n",
       "      <td>0</td>\n",
       "      <td>0</td>\n",
       "    </tr>\n",
       "    <tr>\n",
       "      <th>4</th>\n",
       "      <td>421</td>\n",
       "      <td>4250</td>\n",
       "      <td>3730</td>\n",
       "      <td>87.76</td>\n",
       "      <td>26.2</td>\n",
       "      <td>-1.65</td>\n",
       "      <td>63.5</td>\n",
       "      <td>0</td>\n",
       "      <td>0</td>\n",
       "      <td>0</td>\n",
       "      <td>0</td>\n",
       "      <td>0</td>\n",
       "      <td>0</td>\n",
       "      <td>0</td>\n",
       "      <td>0</td>\n",
       "      <td>1</td>\n",
       "      <td>0</td>\n",
       "      <td>0</td>\n",
       "      <td>1</td>\n",
       "    </tr>\n",
       "    <tr>\n",
       "      <th>...</th>\n",
       "      <td>...</td>\n",
       "      <td>...</td>\n",
       "      <td>...</td>\n",
       "      <td>...</td>\n",
       "      <td>...</td>\n",
       "      <td>...</td>\n",
       "      <td>...</td>\n",
       "      <td>...</td>\n",
       "      <td>...</td>\n",
       "      <td>...</td>\n",
       "      <td>...</td>\n",
       "      <td>...</td>\n",
       "      <td>...</td>\n",
       "      <td>...</td>\n",
       "      <td>...</td>\n",
       "      <td>...</td>\n",
       "      <td>...</td>\n",
       "      <td>...</td>\n",
       "      <td>...</td>\n",
       "    </tr>\n",
       "    <tr>\n",
       "      <th>2825</th>\n",
       "      <td>642</td>\n",
       "      <td>5947</td>\n",
       "      <td>5039</td>\n",
       "      <td>84.73</td>\n",
       "      <td>45.5</td>\n",
       "      <td>20.90</td>\n",
       "      <td>59.5</td>\n",
       "      <td>0</td>\n",
       "      <td>0</td>\n",
       "      <td>0</td>\n",
       "      <td>0</td>\n",
       "      <td>0</td>\n",
       "      <td>0</td>\n",
       "      <td>0</td>\n",
       "      <td>0</td>\n",
       "      <td>0</td>\n",
       "      <td>0</td>\n",
       "      <td>1</td>\n",
       "      <td>0</td>\n",
       "    </tr>\n",
       "    <tr>\n",
       "      <th>2826</th>\n",
       "      <td>667</td>\n",
       "      <td>6044</td>\n",
       "      <td>5087</td>\n",
       "      <td>84.17</td>\n",
       "      <td>43.6</td>\n",
       "      <td>21.05</td>\n",
       "      <td>66.0</td>\n",
       "      <td>1</td>\n",
       "      <td>0</td>\n",
       "      <td>0</td>\n",
       "      <td>0</td>\n",
       "      <td>0</td>\n",
       "      <td>0</td>\n",
       "      <td>0</td>\n",
       "      <td>0</td>\n",
       "      <td>0</td>\n",
       "      <td>0</td>\n",
       "      <td>1</td>\n",
       "      <td>0</td>\n",
       "    </tr>\n",
       "    <tr>\n",
       "      <th>2827</th>\n",
       "      <td>670</td>\n",
       "      <td>6182</td>\n",
       "      <td>5176</td>\n",
       "      <td>83.73</td>\n",
       "      <td>44.7</td>\n",
       "      <td>21.40</td>\n",
       "      <td>64.0</td>\n",
       "      <td>0</td>\n",
       "      <td>1</td>\n",
       "      <td>0</td>\n",
       "      <td>0</td>\n",
       "      <td>0</td>\n",
       "      <td>0</td>\n",
       "      <td>0</td>\n",
       "      <td>0</td>\n",
       "      <td>0</td>\n",
       "      <td>0</td>\n",
       "      <td>1</td>\n",
       "      <td>0</td>\n",
       "    </tr>\n",
       "    <tr>\n",
       "      <th>2828</th>\n",
       "      <td>655</td>\n",
       "      <td>5981</td>\n",
       "      <td>5008</td>\n",
       "      <td>83.73</td>\n",
       "      <td>42.9</td>\n",
       "      <td>21.30</td>\n",
       "      <td>63.0</td>\n",
       "      <td>0</td>\n",
       "      <td>0</td>\n",
       "      <td>1</td>\n",
       "      <td>0</td>\n",
       "      <td>0</td>\n",
       "      <td>0</td>\n",
       "      <td>0</td>\n",
       "      <td>0</td>\n",
       "      <td>0</td>\n",
       "      <td>0</td>\n",
       "      <td>1</td>\n",
       "      <td>0</td>\n",
       "    </tr>\n",
       "    <tr>\n",
       "      <th>2829</th>\n",
       "      <td>658</td>\n",
       "      <td>5808</td>\n",
       "      <td>4836</td>\n",
       "      <td>83.26</td>\n",
       "      <td>45.7</td>\n",
       "      <td>20.95</td>\n",
       "      <td>61.5</td>\n",
       "      <td>0</td>\n",
       "      <td>0</td>\n",
       "      <td>0</td>\n",
       "      <td>1</td>\n",
       "      <td>0</td>\n",
       "      <td>0</td>\n",
       "      <td>0</td>\n",
       "      <td>0</td>\n",
       "      <td>0</td>\n",
       "      <td>0</td>\n",
       "      <td>1</td>\n",
       "      <td>0</td>\n",
       "    </tr>\n",
       "  </tbody>\n",
       "</table>\n",
       "<p>2830 rows × 19 columns</p>\n",
       "</div>"
      ],
      "text/plain": [
       "      car_cnt  request_cnt  ride_cnt  ride_pro  waiting_time   temp  humidity  \\\n",
       "0         213         1023       924     90.32          23.2  -5.45      45.5   \n",
       "1         420         3158      2839     89.90          17.2  -3.40      55.0   \n",
       "2         209         1648      1514     91.87          26.2   4.20      73.5   \n",
       "3         196         1646      1526     92.71          24.5   3.50      73.5   \n",
       "4         421         4250      3730     87.76          26.2  -1.65      63.5   \n",
       "...       ...          ...       ...       ...           ...    ...       ...   \n",
       "2825      642         5947      5039     84.73          45.5  20.90      59.5   \n",
       "2826      667         6044      5087     84.17          43.6  21.05      66.0   \n",
       "2827      670         6182      5176     83.73          44.7  21.40      64.0   \n",
       "2828      655         5981      5008     83.73          42.9  21.30      63.0   \n",
       "2829      658         5808      4836     83.26          45.7  20.95      61.5   \n",
       "\n",
       "      weekday_1  weekday_2  weekday_3  weekday_4  weekday_5  weekday_6  \\\n",
       "0             0          0          1          0          0          0   \n",
       "1             0          0          0          1          0          0   \n",
       "2             0          0          0          0          1          0   \n",
       "3             0          0          0          0          0          1   \n",
       "4             0          0          0          0          0          0   \n",
       "...         ...        ...        ...        ...        ...        ...   \n",
       "2825          0          0          0          0          0          0   \n",
       "2826          1          0          0          0          0          0   \n",
       "2827          0          1          0          0          0          0   \n",
       "2828          0          0          1          0          0          0   \n",
       "2829          0          0          0          1          0          0   \n",
       "\n",
       "      season_spring  season_summer  season_winter  is_holiday_1  covid_1  \\\n",
       "0                 0              0              1             1        0   \n",
       "1                 0              0              1             0        0   \n",
       "2                 0              0              1             1        0   \n",
       "3                 0              0              1             1        0   \n",
       "4                 0              0              1             0        0   \n",
       "...             ...            ...            ...           ...      ...   \n",
       "2825              0              0              0             0        1   \n",
       "2826              0              0              0             0        1   \n",
       "2827              0              0              0             0        1   \n",
       "2828              0              0              0             0        1   \n",
       "2829              0              0              0             0        1   \n",
       "\n",
       "      is_rainy_1  \n",
       "0              0  \n",
       "1              0  \n",
       "2              0  \n",
       "3              0  \n",
       "4              1  \n",
       "...          ...  \n",
       "2825           0  \n",
       "2826           0  \n",
       "2827           0  \n",
       "2828           0  \n",
       "2829           0  \n",
       "\n",
       "[2830 rows x 19 columns]"
      ]
     },
     "execution_count": 16,
     "metadata": {},
     "output_type": "execute_result"
    }
   ],
   "source": [
    "x_train"
   ]
  },
  {
   "cell_type": "markdown",
   "metadata": {
    "id": "59bBv0a8heYh"
   },
   "source": [
    "### (4) Scaling\n",
    "* KNN, SVM 알고리즘 및 DL을 적용하기 위해서는 스케일링을 해야 합니다."
   ]
  },
  {
   "cell_type": "code",
   "execution_count": 68,
   "metadata": {},
   "outputs": [],
   "source": [
    "from sklearn.preprocessing import MinMaxScaler\n",
    "\n",
    "scaler = MinMaxScaler()\n",
    "scaler.fit(x_train)\n",
    "x_train_mm = scaler.transform(x_train)\n",
    "x_test_mm = scaler.transform(x_test)"
   ]
  },
  {
   "cell_type": "code",
   "execution_count": 73,
   "metadata": {},
   "outputs": [
    {
     "name": "stdout",
     "output_type": "stream",
     "text": [
      "(2830, 19) (2830,)\n",
      "(91, 19) (91,)\n"
     ]
    }
   ],
   "source": [
    "print(x_train_mm.shape,y_train.shape)\n",
    "print(x_test_mm.shape,y_test.shape)"
   ]
  },
  {
   "cell_type": "markdown",
   "metadata": {
    "id": "30TsHQqzMSbJ"
   },
   "source": [
    "## 3.모델링\n",
    "* **세부요구사항**\n",
    "    * 머신러닝 알고리즘 중 3가지 이상을 사용하여 모델을 만들고 튜닝을 수행합니다.\n",
    "    * 딥러닝 모델 구조 2가지 이상을 설계하고 모델을 생성합니다.\n",
    "    * 성능 측정은 MAE, MAPE로 수행합니다.\n",
    "    * 모델링 후 실제값과 예측값을 시각화(라인차트)하여 분석합니다."
   ]
  },
  {
   "cell_type": "code",
   "execution_count": 19,
   "metadata": {
    "id": "mCG_2LfEMdce"
   },
   "outputs": [],
   "source": [
    "# 불러오기\n",
    "from sklearn.linear_model import LinearRegression\n",
    "from sklearn.neighbors import KNeighborsRegressor\n",
    "from sklearn.tree import DecisionTreeRegressor\n",
    "from sklearn.ensemble import RandomForestRegressor\n",
    "import xgboost as xgb\n",
    "from xgboost import XGBRegressor\n",
    "from lightgbm import LGBMRegressor\n",
    "\n",
    "from sklearn.model_selection import cross_val_score, GridSearchCV\n",
    "from sklearn.metrics import mean_absolute_error, r2_score"
   ]
  },
  {
   "cell_type": "markdown",
   "metadata": {
    "id": "ztJOSw2_MaHs"
   },
   "source": [
    "### (1) 머신러닝"
   ]
  },
  {
   "cell_type": "markdown",
   "metadata": {
    "id": "Xb0VvIreaRZF"
   },
   "source": [
    "#### 1) 모델1"
   ]
  },
  {
   "cell_type": "markdown",
   "metadata": {},
   "source": [
    "### LinearRegression"
   ]
  },
  {
   "cell_type": "code",
   "execution_count": 20,
   "metadata": {
    "id": "dIuWc-NuMZ91",
    "scrolled": true
   },
   "outputs": [
    {
     "name": "stdout",
     "output_type": "stream",
     "text": [
      "선형 회귀 MAE: 6.088531252545338\n",
      "선형 회귀 MAPE: 0.1598164312874149\n"
     ]
    }
   ],
   "source": [
    "from sklearn.linear_model import LinearRegression\n",
    "from sklearn.metrics import mean_absolute_error, mean_absolute_percentage_error\n",
    "import matplotlib.pyplot as plt\n",
    "\n",
    "# 선형 회귀 모델 생성\n",
    "linear_reg = LinearRegression()\n",
    "\n",
    "# 모델 훈련\n",
    "linear_reg.fit(x_train_mm, y_train)\n",
    "\n",
    "# 예측\n",
    "y_pred = linear_reg.predict(x_train_mm)\n",
    "\n",
    "# 성능 측정\n",
    "mae = mean_absolute_error(y_train, y_pred)\n",
    "mape = mean_absolute_percentage_error(y_train, y_pred)\n",
    "\n",
    "# 결과 출력\n",
    "print(\"선형 회귀 MAE:\", mae)\n",
    "print(\"선형 회귀 MAPE:\", mape)"
   ]
  },
  {
   "cell_type": "code",
   "execution_count": 21,
   "metadata": {},
   "outputs": [
    {
     "name": "stdout",
     "output_type": "stream",
     "text": [
      "교차 검증 MAE: 6.697777328708821\n",
      "교차 검증 MAPE: 0.17478797146119907\n"
     ]
    }
   ],
   "source": [
    "from sklearn.model_selection import cross_val_predict\n",
    "model = LinearRegression()\n",
    "\n",
    "y_pred_cv = cross_val_predict(model, x_train_mm, y_train, cv=5)\n",
    "\n",
    "mae_cv = mean_absolute_error(y_train, y_pred_cv)\n",
    "mape_cv = mean_absolute_percentage_error(y_train, y_pred_cv)\n",
    "\n",
    "# 교차 검증 MAE 출력\n",
    "print(\"교차 검증 MAE:\", mae_cv)\n",
    "print(\"교차 검증 MAPE:\", mape_cv)"
   ]
  },
  {
   "cell_type": "code",
   "execution_count": 22,
   "metadata": {},
   "outputs": [
    {
     "name": "stdout",
     "output_type": "stream",
     "text": [
      "선형 회귀 MAE: 4.661405273549796\n",
      "선형 회귀 MAPE: 0.11588120152168127\n"
     ]
    }
   ],
   "source": [
    "#성능평가\n",
    "y_pred = linear_reg.predict(x_test_mm)\n",
    "\n",
    "mae = mean_absolute_error(y_test, y_pred)\n",
    "mape = mean_absolute_percentage_error(y_test, y_pred)\n",
    "print(\"선형 회귀 MAE:\", mae)\n",
    "print(\"선형 회귀 MAPE:\", mape)"
   ]
  },
  {
   "cell_type": "code",
   "execution_count": null,
   "metadata": {},
   "outputs": [],
   "source": []
  },
  {
   "cell_type": "code",
   "execution_count": 266,
   "metadata": {},
   "outputs": [],
   "source": [
    "\n",
    "# # 실제값과 예측값 시각화\n",
    "# plt.plot(y_train, label='실제값', marker='o')\n",
    "# plt.plot(y_pred, label='예측값', marker='x')\n",
    "# plt.legend()\n",
    "# plt.xlabel('샘플 인덱스')\n",
    "# plt.ylabel('값')\n",
    "# plt.title('선형 회귀 결과 시각화')\n",
    "# plt.show()\n"
   ]
  },
  {
   "cell_type": "markdown",
   "metadata": {
    "id": "hthJE54INBFD"
   },
   "source": [
    "#### 2) 모델2"
   ]
  },
  {
   "cell_type": "markdown",
   "metadata": {},
   "source": [
    "### RandomForestRegressor"
   ]
  },
  {
   "cell_type": "code",
   "execution_count": 23,
   "metadata": {
    "id": "SWIYJuN2tNul"
   },
   "outputs": [
    {
     "name": "stdout",
     "output_type": "stream",
     "text": [
      "랜덤 포레스트 MAE: 1.9829982332155456\n",
      "랜덤 포레스트 MAPE: 0.05069176656006825\n"
     ]
    }
   ],
   "source": [
    "from sklearn.ensemble import RandomForestRegressor\n",
    "\n",
    "random_forest = RandomForestRegressor(n_estimators=300, min_samples_split=2 ,random_state=42)\n",
    "random_forest.fit(x_train_mm, y_train)\n",
    "\n",
    "y_pred_rf = random_forest.predict(x_train_mm)\n",
    "\n",
    "mae_rf = mean_absolute_error(y_train, y_pred_rf)\n",
    "mape_rf = mean_absolute_percentage_error(y_train, y_pred_rf)\n",
    "\n",
    "print(\"랜덤 포레스트 MAE:\", mae_rf)\n",
    "print(\"랜덤 포레스트 MAPE:\", mape_rf)"
   ]
  },
  {
   "cell_type": "code",
   "execution_count": 543,
   "metadata": {},
   "outputs": [],
   "source": [
    "# from sklearn.ensemble import RandomForestRegressor\n",
    "\n",
    "# random_forest = RandomForestRegressor(n_estimators=600, min_samples_split=2,random_state=42)\n",
    "# random_forest.fit(x_train_mm, y_train)\n",
    "\n",
    "# y_pred_cv = cross_val_predict(model, x_train, y_train, cv=5)\n",
    "\n",
    "# mae_cv = mean_absolute_error(y_train, y_pred_cv)\n",
    "# mape_cv = mean_absolute_percentage_error(y_train, y_pred_cv)\n",
    "\n",
    "# # 교차 검증 MAE 출력\n",
    "# print(\"교차 검증 MAE:\", mae_cv)\n",
    "# print(\"교차 검증 MAPE:\", mape_cv)"
   ]
  },
  {
   "cell_type": "code",
   "execution_count": 24,
   "metadata": {},
   "outputs": [
    {
     "name": "stdout",
     "output_type": "stream",
     "text": [
      "random_forest MAE: 4.617249084249083\n",
      "random_forest MAPE: 0.11415560926071218\n"
     ]
    }
   ],
   "source": [
    "#성능평가\n",
    "y_pred = random_forest.predict(x_test_mm)\n",
    "\n",
    "mae = mean_absolute_error(y_test, y_pred)\n",
    "mape = mean_absolute_percentage_error(y_test, y_pred)\n",
    "print(\"random_forest MAE:\", mae)\n",
    "print(\"random_forest MAPE:\", mape)"
   ]
  },
  {
   "cell_type": "markdown",
   "metadata": {
    "id": "Xc5u-D-yNCJc"
   },
   "source": [
    "#### 3) 모델3"
   ]
  },
  {
   "cell_type": "markdown",
   "metadata": {},
   "source": [
    "### GradientBoostingRegressor"
   ]
  },
  {
   "cell_type": "code",
   "execution_count": 28,
   "metadata": {
    "id": "6wz81_3otO-r"
   },
   "outputs": [
    {
     "name": "stdout",
     "output_type": "stream",
     "text": [
      "Gradient Boosting MAE: 5.024564278322307\n",
      "Gradient Boosting MAPE: 0.12989506518434207\n"
     ]
    }
   ],
   "source": [
    "from sklearn.ensemble import GradientBoostingRegressor\n",
    "\n",
    "gradient_boosting = GradientBoostingRegressor(random_state=1)\n",
    "gradient_boosting.fit(x_train_mm, y_train)\n",
    "\n",
    "y_pred_gb = gradient_boosting.predict(x_train_mm)\n",
    "\n",
    "mae_gb = mean_absolute_error(y_train, y_pred_gb)\n",
    "mape_gb = mean_absolute_percentage_error(y_train, y_pred_gb)\n",
    "\n",
    "print(\"Gradient Boosting MAE:\", mae_gb)\n",
    "print(\"Gradient Boosting MAPE:\", mape_gb)"
   ]
  },
  {
   "cell_type": "code",
   "execution_count": 26,
   "metadata": {},
   "outputs": [
    {
     "name": "stdout",
     "output_type": "stream",
     "text": [
      "교차 검증 MAE: 6.635269827285739\n",
      "교차 검증 MAPE: 0.17442999295777317\n"
     ]
    }
   ],
   "source": [
    "y_pred_cv = cross_val_predict(gradient_boosting, x_train_mm, y_train, cv=5)\n",
    "\n",
    "mae_cv = mean_absolute_error(y_train, y_pred_cv)\n",
    "mape_cv = mean_absolute_percentage_error(y_train, y_pred_cv)\n",
    "\n",
    "# 교차 검증 MAE 출력\n",
    "print(\"교차 검증 MAE:\", mae_cv)\n",
    "print(\"교차 검증 MAPE:\", mape_cv)"
   ]
  },
  {
   "cell_type": "code",
   "execution_count": 29,
   "metadata": {},
   "outputs": [
    {
     "name": "stdout",
     "output_type": "stream",
     "text": [
      "Gradient Boosting MAE: 4.747481698302151\n",
      "Gradient Boosting MAPE: 0.11583633630803808\n"
     ]
    }
   ],
   "source": [
    "#성능평가\n",
    "y_pred = gradient_boosting.predict(x_test_mm)\n",
    "\n",
    "mae = mean_absolute_error(y_test, y_pred)\n",
    "mape = mean_absolute_percentage_error(y_test, y_pred)\n",
    "print(\"Gradient Boosting MAE:\", mae)\n",
    "print(\"Gradient Boosting MAPE:\", mape)"
   ]
  },
  {
   "cell_type": "markdown",
   "metadata": {
    "id": "9uVK1tgEJqKe"
   },
   "source": [
    "#### 4) 모델4"
   ]
  },
  {
   "cell_type": "markdown",
   "metadata": {},
   "source": [
    "### XGBRegressor"
   ]
  },
  {
   "cell_type": "code",
   "execution_count": 30,
   "metadata": {
    "id": "dWERuYXZJsnR"
   },
   "outputs": [
    {
     "name": "stdout",
     "output_type": "stream",
     "text": [
      "XGBoost MAE: 4.374048570289207\n",
      "XGBoost MAPE: 0.11345968856126082\n"
     ]
    }
   ],
   "source": [
    "xgb_model = XGBRegressor(n_estimators=400,learning_rate=0.03,max_depth=4, colsample_bytree=0.7, random_state=1)\n",
    "\n",
    "# 모델 훈련\n",
    "xgb_model.fit(x_train_mm, y_train)\n",
    "\n",
    "# 예측\n",
    "y_pred_xgb = xgb_model.predict(x_train_mm)\n",
    "\n",
    "# 성능 측정 (MAE 및 MAPE)\n",
    "mae_xgb = mean_absolute_error(y_train, y_pred_xgb)\n",
    "mape_xgb = mean_absolute_percentage_error(y_train, y_pred_xgb)\n",
    "\n",
    "# 결과 출력\n",
    "print(\"XGBoost MAE:\", mae_xgb)\n",
    "print(\"XGBoost MAPE:\", mape_xgb)"
   ]
  },
  {
   "cell_type": "code",
   "execution_count": 31,
   "metadata": {},
   "outputs": [],
   "source": [
    "# xgb_model = XGBRegressor(n_estimators=200,learning_rate=0.1,colsample_bytree=0.8, random_state=1)\n",
    "# y_pred_cv = cross_val_predict(xgb_model, x_train_mm, y_train, cv=20)\n",
    "\n",
    "# mae_cv = mean_absolute_error(y_train, y_pred_cv)\n",
    "# mape_cv = mean_absolute_percentage_error(y_train, y_pred_cv)\n",
    "\n",
    "# # 교차 검증 MAE 출력\n",
    "# print(\"교차 검증 MAE:\", mae_cv)\n",
    "# print(\"교차 검증 MAPE:\", mape_cv)"
   ]
  },
  {
   "cell_type": "code",
   "execution_count": 336,
   "metadata": {},
   "outputs": [],
   "source": [
    "# param_grid = {\n",
    "#     'n_estimators': [100, 200, 300],  # Number of boosting stages to be used\n",
    "#     'learning_rate': [0.01, 0.1, 0.2],  # Step size shrinking to prevent overfitting\n",
    "#     'max_depth': [3, 4, 5],  # Maximum depth of the individual trees\n",
    "#     'min_samples_split': [2, 5, 10],  # Minimum number of samples required to split an internal node\n",
    "# }"
   ]
  },
  {
   "cell_type": "code",
   "execution_count": 32,
   "metadata": {},
   "outputs": [
    {
     "name": "stdout",
     "output_type": "stream",
     "text": [
      "XGBoost MAE: 4.688563671740857\n",
      "XGBoost MAPE: 0.11550955499651087\n"
     ]
    }
   ],
   "source": [
    "# Make predictions on the test data\n",
    "y_pred = xgb_model.predict(x_test_mm)\n",
    "\n",
    "# Calculate performance metrics\n",
    "mae = mean_absolute_error(y_test, y_pred)\n",
    "mape = mean_absolute_percentage_error(y_test, y_pred)\n",
    "print(\"XGBoost MAE:\", mae)\n",
    "print(\"XGBoost MAPE:\", mape)"
   ]
  },
  {
   "cell_type": "markdown",
   "metadata": {
    "id": "9uVK1tgEJqKe"
   },
   "source": [
    "#### 4) 모델5"
   ]
  },
  {
   "cell_type": "markdown",
   "metadata": {},
   "source": [
    "### LGBMRegressor"
   ]
  },
  {
   "cell_type": "code",
   "execution_count": 33,
   "metadata": {},
   "outputs": [
    {
     "name": "stdout",
     "output_type": "stream",
     "text": [
      "[LightGBM] [Warning] Auto-choosing row-wise multi-threading, the overhead of testing was 0.002194 seconds.\n",
      "You can set `force_row_wise=true` to remove the overhead.\n",
      "And if memory is not enough, you can set `force_col_wise=true`.\n",
      "[LightGBM] [Info] Total Bins 1693\n",
      "[LightGBM] [Info] Number of data points in the train set: 2830, number of used features: 19\n",
      "[LightGBM] [Info] Start training from score 40.208127\n",
      "LightGBM MAE: 5.83609696488935\n",
      "LightGBM MAPE: 0.1582688498751461\n"
     ]
    }
   ],
   "source": [
    "lgb_model = LGBMRegressor(n_estimators=300,learning_rate=0.005, random_state=1)\n",
    "\n",
    "# 모델 훈련\n",
    "lgb_model.fit(x_train_mm, y_train)\n",
    "\n",
    "# 예측\n",
    "y_pred_lgb = lgb_model.predict(x_train_mm)\n",
    "\n",
    "# 성능 측정 (MAE 및 MAPE)\n",
    "mae_lgb = mean_absolute_error(y_train, y_pred_lgb)\n",
    "mape_lgb = mean_absolute_percentage_error(y_train, y_pred_lgb)\n",
    "\n",
    "# 결과 출력\n",
    "print(\"LightGBM MAE:\", mae_lgb)\n",
    "print(\"LightGBM MAPE:\", mape_lgb)"
   ]
  },
  {
   "cell_type": "code",
   "execution_count": 34,
   "metadata": {},
   "outputs": [
    {
     "name": "stdout",
     "output_type": "stream",
     "text": [
      "LightGBM MAE: 4.854484891443208\n",
      "LightGBM MAPE: 0.11541850126598355\n"
     ]
    }
   ],
   "source": [
    "#성능평가\n",
    "y_pred = lgb_model.predict(x_test_mm)\n",
    "\n",
    "mae = mean_absolute_error(y_test, y_pred)\n",
    "mape = mean_absolute_percentage_error(y_test, y_pred)\n",
    "print(\"LightGBM MAE:\", mae)\n",
    "print(\"LightGBM MAPE:\", mape)"
   ]
  },
  {
   "cell_type": "markdown",
   "metadata": {
    "id": "JBXKlQu5P2yM"
   },
   "source": [
    "### (2) 딥러닝"
   ]
  },
  {
   "cell_type": "code",
   "execution_count": 130,
   "metadata": {
    "id": "9E6wET5xtQ7E",
    "scrolled": true
   },
   "outputs": [
    {
     "name": "stdout",
     "output_type": "stream",
     "text": [
      "Requirement already satisfied: tensorflow in c:\\users\\user\\anaconda3\\lib\\site-packages (2.13.0)\n",
      "Requirement already satisfied: tensorflow-intel==2.13.0 in c:\\users\\user\\anaconda3\\lib\\site-packages (from tensorflow) (2.13.0)\n",
      "Requirement already satisfied: absl-py>=1.0.0 in c:\\users\\user\\anaconda3\\lib\\site-packages (from tensorflow-intel==2.13.0->tensorflow) (1.4.0)\n",
      "Requirement already satisfied: astunparse>=1.6.0 in c:\\users\\user\\anaconda3\\lib\\site-packages (from tensorflow-intel==2.13.0->tensorflow) (1.6.3)\n",
      "Requirement already satisfied: flatbuffers>=23.1.21 in c:\\users\\user\\anaconda3\\lib\\site-packages (from tensorflow-intel==2.13.0->tensorflow) (23.5.26)\n",
      "Requirement already satisfied: gast<=0.4.0,>=0.2.1 in c:\\users\\user\\anaconda3\\lib\\site-packages (from tensorflow-intel==2.13.0->tensorflow) (0.4.0)\n",
      "Requirement already satisfied: google-pasta>=0.1.1 in c:\\users\\user\\anaconda3\\lib\\site-packages (from tensorflow-intel==2.13.0->tensorflow) (0.2.0)\n",
      "Requirement already satisfied: h5py>=2.9.0 in c:\\users\\user\\anaconda3\\lib\\site-packages (from tensorflow-intel==2.13.0->tensorflow) (3.7.0)\n",
      "Requirement already satisfied: libclang>=13.0.0 in c:\\users\\user\\anaconda3\\lib\\site-packages (from tensorflow-intel==2.13.0->tensorflow) (16.0.6)\n",
      "Requirement already satisfied: numpy<=1.24.3,>=1.22 in c:\\users\\user\\anaconda3\\lib\\site-packages (from tensorflow-intel==2.13.0->tensorflow) (1.24.3)\n",
      "Requirement already satisfied: opt-einsum>=2.3.2 in c:\\users\\user\\anaconda3\\lib\\site-packages (from tensorflow-intel==2.13.0->tensorflow) (3.3.0)\n",
      "Requirement already satisfied: packaging in c:\\users\\user\\anaconda3\\lib\\site-packages (from tensorflow-intel==2.13.0->tensorflow) (23.0)\n",
      "Requirement already satisfied: protobuf!=4.21.0,!=4.21.1,!=4.21.2,!=4.21.3,!=4.21.4,!=4.21.5,<5.0.0dev,>=3.20.3 in c:\\users\\user\\anaconda3\\lib\\site-packages (from tensorflow-intel==2.13.0->tensorflow) (4.24.3)\n",
      "Requirement already satisfied: setuptools in c:\\users\\user\\anaconda3\\lib\\site-packages (from tensorflow-intel==2.13.0->tensorflow) (67.8.0)\n",
      "Requirement already satisfied: six>=1.12.0 in c:\\users\\user\\anaconda3\\lib\\site-packages (from tensorflow-intel==2.13.0->tensorflow) (1.16.0)\n",
      "Requirement already satisfied: termcolor>=1.1.0 in c:\\users\\user\\anaconda3\\lib\\site-packages (from tensorflow-intel==2.13.0->tensorflow) (2.3.0)\n",
      "Requirement already satisfied: typing-extensions<4.6.0,>=3.6.6 in c:\\users\\user\\anaconda3\\lib\\site-packages (from tensorflow-intel==2.13.0->tensorflow) (4.5.0)\n",
      "Requirement already satisfied: wrapt>=1.11.0 in c:\\users\\user\\anaconda3\\lib\\site-packages (from tensorflow-intel==2.13.0->tensorflow) (1.14.1)\n",
      "Requirement already satisfied: grpcio<2.0,>=1.24.3 in c:\\users\\user\\anaconda3\\lib\\site-packages (from tensorflow-intel==2.13.0->tensorflow) (1.58.0)\n",
      "Requirement already satisfied: tensorboard<2.14,>=2.13 in c:\\users\\user\\anaconda3\\lib\\site-packages (from tensorflow-intel==2.13.0->tensorflow) (2.13.0)\n",
      "Requirement already satisfied: tensorflow-estimator<2.14,>=2.13.0 in c:\\users\\user\\anaconda3\\lib\\site-packages (from tensorflow-intel==2.13.0->tensorflow) (2.13.0)\n",
      "Requirement already satisfied: keras<2.14,>=2.13.1 in c:\\users\\user\\anaconda3\\lib\\site-packages (from tensorflow-intel==2.13.0->tensorflow) (2.13.1)\n",
      "Requirement already satisfied: tensorflow-io-gcs-filesystem>=0.23.1 in c:\\users\\user\\anaconda3\\lib\\site-packages (from tensorflow-intel==2.13.0->tensorflow) (0.31.0)\n",
      "Requirement already satisfied: wheel<1.0,>=0.23.0 in c:\\users\\user\\anaconda3\\lib\\site-packages (from astunparse>=1.6.0->tensorflow-intel==2.13.0->tensorflow) (0.38.4)\n",
      "Requirement already satisfied: google-auth<3,>=1.6.3 in c:\\users\\user\\anaconda3\\lib\\site-packages (from tensorboard<2.14,>=2.13->tensorflow-intel==2.13.0->tensorflow) (2.23.0)\n",
      "Requirement already satisfied: google-auth-oauthlib<1.1,>=0.5 in c:\\users\\user\\anaconda3\\lib\\site-packages (from tensorboard<2.14,>=2.13->tensorflow-intel==2.13.0->tensorflow) (1.0.0)\n",
      "Requirement already satisfied: markdown>=2.6.8 in c:\\users\\user\\anaconda3\\lib\\site-packages (from tensorboard<2.14,>=2.13->tensorflow-intel==2.13.0->tensorflow) (3.4.1)\n",
      "Requirement already satisfied: requests<3,>=2.21.0 in c:\\users\\user\\anaconda3\\lib\\site-packages (from tensorboard<2.14,>=2.13->tensorflow-intel==2.13.0->tensorflow) (2.29.0)\n",
      "Requirement already satisfied: tensorboard-data-server<0.8.0,>=0.7.0 in c:\\users\\user\\anaconda3\\lib\\site-packages (from tensorboard<2.14,>=2.13->tensorflow-intel==2.13.0->tensorflow) (0.7.1)\n",
      "Requirement already satisfied: werkzeug>=1.0.1 in c:\\users\\user\\anaconda3\\lib\\site-packages (from tensorboard<2.14,>=2.13->tensorflow-intel==2.13.0->tensorflow) (2.2.3)\n",
      "Requirement already satisfied: cachetools<6.0,>=2.0.0 in c:\\users\\user\\anaconda3\\lib\\site-packages (from google-auth<3,>=1.6.3->tensorboard<2.14,>=2.13->tensorflow-intel==2.13.0->tensorflow) (5.3.1)\n",
      "Requirement already satisfied: pyasn1-modules>=0.2.1 in c:\\users\\user\\anaconda3\\lib\\site-packages (from google-auth<3,>=1.6.3->tensorboard<2.14,>=2.13->tensorflow-intel==2.13.0->tensorflow) (0.2.8)\n",
      "Requirement already satisfied: rsa<5,>=3.1.4 in c:\\users\\user\\anaconda3\\lib\\site-packages (from google-auth<3,>=1.6.3->tensorboard<2.14,>=2.13->tensorflow-intel==2.13.0->tensorflow) (4.9)\n",
      "Requirement already satisfied: urllib3<2.0 in c:\\users\\user\\anaconda3\\lib\\site-packages (from google-auth<3,>=1.6.3->tensorboard<2.14,>=2.13->tensorflow-intel==2.13.0->tensorflow) (1.26.16)\n",
      "Requirement already satisfied: requests-oauthlib>=0.7.0 in c:\\users\\user\\anaconda3\\lib\\site-packages (from google-auth-oauthlib<1.1,>=0.5->tensorboard<2.14,>=2.13->tensorflow-intel==2.13.0->tensorflow) (1.3.1)\n",
      "Requirement already satisfied: charset-normalizer<4,>=2 in c:\\users\\user\\anaconda3\\lib\\site-packages (from requests<3,>=2.21.0->tensorboard<2.14,>=2.13->tensorflow-intel==2.13.0->tensorflow) (2.0.4)\n",
      "Requirement already satisfied: idna<4,>=2.5 in c:\\users\\user\\anaconda3\\lib\\site-packages (from requests<3,>=2.21.0->tensorboard<2.14,>=2.13->tensorflow-intel==2.13.0->tensorflow) (3.4)\n",
      "Requirement already satisfied: certifi>=2017.4.17 in c:\\users\\user\\anaconda3\\lib\\site-packages (from requests<3,>=2.21.0->tensorboard<2.14,>=2.13->tensorflow-intel==2.13.0->tensorflow) (2023.5.7)\n",
      "Requirement already satisfied: MarkupSafe>=2.1.1 in c:\\users\\user\\anaconda3\\lib\\site-packages (from werkzeug>=1.0.1->tensorboard<2.14,>=2.13->tensorflow-intel==2.13.0->tensorflow) (2.1.1)\n",
      "Requirement already satisfied: pyasn1<0.5.0,>=0.4.6 in c:\\users\\user\\anaconda3\\lib\\site-packages (from pyasn1-modules>=0.2.1->google-auth<3,>=1.6.3->tensorboard<2.14,>=2.13->tensorflow-intel==2.13.0->tensorflow) (0.4.8)\n",
      "Requirement already satisfied: oauthlib>=3.0.0 in c:\\users\\user\\anaconda3\\lib\\site-packages (from requests-oauthlib>=0.7.0->google-auth-oauthlib<1.1,>=0.5->tensorboard<2.14,>=2.13->tensorflow-intel==2.13.0->tensorflow) (3.2.2)\n",
      "Note: you may need to restart the kernel to use updated packages.\n"
     ]
    }
   ],
   "source": [
    "pip install tensorflow"
   ]
  },
  {
   "cell_type": "markdown",
   "metadata": {
    "id": "kd1fRLnDaaFY"
   },
   "source": [
    "#### 1) 모델1"
   ]
  },
  {
   "cell_type": "code",
   "execution_count": 35,
   "metadata": {},
   "outputs": [],
   "source": [
    "import tensorflow as tf\n",
    "from tensorflow.keras.models import Sequential\n",
    "from tensorflow.keras.layers import Dense\n",
    "from tensorflow.keras.optimizers import Adam\n",
    "from sklearn.metrics import mean_absolute_error, mean_absolute_percentage_error, mean_squared_error\n",
    "import matplotlib.pyplot as plt"
   ]
  },
  {
   "cell_type": "code",
   "execution_count": 36,
   "metadata": {
    "id": "HMOjVWKvtTLb",
    "scrolled": true
   },
   "outputs": [
    {
     "name": "stderr",
     "output_type": "stream",
     "text": [
      "WARNING:absl:`lr` is deprecated in Keras optimizer, please use `learning_rate` or use the legacy optimizer, e.g.,tf.keras.optimizers.legacy.Adam.\n"
     ]
    },
    {
     "name": "stdout",
     "output_type": "stream",
     "text": [
      "Epoch 1/100\n",
      "71/71 [==============================] - 2s 10ms/step - loss: 1473.1376 - val_loss: 126.6234\n",
      "Epoch 2/100\n",
      "71/71 [==============================] - 0s 3ms/step - loss: 268.8557 - val_loss: 138.1170\n",
      "Epoch 3/100\n",
      "71/71 [==============================] - 0s 3ms/step - loss: 183.9251 - val_loss: 90.5583\n",
      "Epoch 4/100\n",
      "71/71 [==============================] - 0s 4ms/step - loss: 150.6211 - val_loss: 63.6602\n",
      "Epoch 5/100\n",
      "71/71 [==============================] - 0s 4ms/step - loss: 130.4988 - val_loss: 55.9765\n",
      "Epoch 6/100\n",
      "71/71 [==============================] - 0s 4ms/step - loss: 115.6047 - val_loss: 53.7726\n",
      "Epoch 7/100\n",
      "71/71 [==============================] - 0s 4ms/step - loss: 104.7137 - val_loss: 47.8008\n",
      "Epoch 8/100\n",
      "71/71 [==============================] - 0s 4ms/step - loss: 96.9853 - val_loss: 44.3282\n",
      "Epoch 9/100\n",
      "71/71 [==============================] - 0s 4ms/step - loss: 91.1987 - val_loss: 40.6002\n",
      "Epoch 10/100\n",
      "71/71 [==============================] - 0s 4ms/step - loss: 87.9560 - val_loss: 40.8376\n",
      "Epoch 11/100\n",
      "71/71 [==============================] - 0s 3ms/step - loss: 85.3832 - val_loss: 39.2653\n",
      "Epoch 12/100\n",
      "71/71 [==============================] - 0s 3ms/step - loss: 83.1034 - val_loss: 36.2796\n",
      "Epoch 13/100\n",
      "71/71 [==============================] - 0s 4ms/step - loss: 81.5384 - val_loss: 37.6614\n",
      "Epoch 14/100\n",
      "71/71 [==============================] - 0s 4ms/step - loss: 80.6305 - val_loss: 39.4609\n",
      "Epoch 15/100\n",
      "71/71 [==============================] - 0s 4ms/step - loss: 79.6523 - val_loss: 37.0149\n",
      "Epoch 16/100\n",
      "71/71 [==============================] - 0s 4ms/step - loss: 78.7889 - val_loss: 35.3695\n",
      "Epoch 17/100\n",
      "71/71 [==============================] - 0s 3ms/step - loss: 78.1688 - val_loss: 35.7982\n",
      "Epoch 18/100\n",
      "71/71 [==============================] - 0s 4ms/step - loss: 77.9914 - val_loss: 35.9394\n",
      "Epoch 19/100\n",
      "71/71 [==============================] - 0s 4ms/step - loss: 76.5769 - val_loss: 34.8898\n",
      "Epoch 20/100\n",
      "71/71 [==============================] - 0s 4ms/step - loss: 76.3631 - val_loss: 34.9236\n",
      "Epoch 21/100\n",
      "71/71 [==============================] - 0s 4ms/step - loss: 75.5713 - val_loss: 33.6161\n",
      "Epoch 22/100\n",
      "71/71 [==============================] - 0s 3ms/step - loss: 75.4847 - val_loss: 35.3265\n",
      "Epoch 23/100\n",
      "71/71 [==============================] - 0s 4ms/step - loss: 74.6000 - val_loss: 34.6397\n",
      "Epoch 24/100\n",
      "71/71 [==============================] - 0s 4ms/step - loss: 74.7960 - val_loss: 35.5532\n",
      "Epoch 25/100\n",
      "71/71 [==============================] - 0s 4ms/step - loss: 74.0065 - val_loss: 33.4055\n",
      "Epoch 26/100\n",
      "71/71 [==============================] - 0s 4ms/step - loss: 73.7365 - val_loss: 36.2607\n",
      "Epoch 27/100\n",
      "71/71 [==============================] - 0s 4ms/step - loss: 73.3162 - val_loss: 33.2629\n",
      "Epoch 28/100\n",
      "71/71 [==============================] - 0s 4ms/step - loss: 72.9498 - val_loss: 36.6040\n",
      "Epoch 29/100\n",
      "71/71 [==============================] - 0s 3ms/step - loss: 73.0181 - val_loss: 33.6780\n",
      "Epoch 30/100\n",
      "71/71 [==============================] - 0s 4ms/step - loss: 72.1388 - val_loss: 34.9441\n",
      "Epoch 31/100\n",
      "71/71 [==============================] - 0s 4ms/step - loss: 72.0553 - val_loss: 34.8295\n",
      "Epoch 32/100\n",
      "71/71 [==============================] - 0s 3ms/step - loss: 71.5421 - val_loss: 32.3621\n",
      "Epoch 33/100\n",
      "71/71 [==============================] - 0s 4ms/step - loss: 71.5275 - val_loss: 33.7229\n",
      "Epoch 34/100\n",
      "71/71 [==============================] - 0s 4ms/step - loss: 71.8096 - val_loss: 32.8172\n",
      "Epoch 35/100\n",
      "71/71 [==============================] - 0s 3ms/step - loss: 71.0381 - val_loss: 33.6958\n",
      "Epoch 36/100\n",
      "71/71 [==============================] - 0s 4ms/step - loss: 71.8758 - val_loss: 33.7979\n",
      "Epoch 37/100\n",
      "71/71 [==============================] - 0s 4ms/step - loss: 71.5654 - val_loss: 34.8853\n",
      "Epoch 38/100\n",
      "71/71 [==============================] - 0s 4ms/step - loss: 70.7221 - val_loss: 33.7069\n",
      "Epoch 39/100\n",
      "71/71 [==============================] - 0s 4ms/step - loss: 70.6038 - val_loss: 34.5594\n",
      "Epoch 40/100\n",
      "71/71 [==============================] - 0s 4ms/step - loss: 70.7660 - val_loss: 33.3216\n",
      "Epoch 41/100\n",
      "71/71 [==============================] - 0s 4ms/step - loss: 69.9433 - val_loss: 35.7719\n",
      "Epoch 42/100\n",
      "71/71 [==============================] - 0s 4ms/step - loss: 69.7793 - val_loss: 34.1432\n",
      "Epoch 43/100\n",
      "71/71 [==============================] - 0s 4ms/step - loss: 69.9991 - val_loss: 33.4355\n",
      "Epoch 44/100\n",
      "71/71 [==============================] - 0s 4ms/step - loss: 69.8902 - val_loss: 35.5442\n",
      "Epoch 45/100\n",
      "71/71 [==============================] - 0s 4ms/step - loss: 69.4666 - val_loss: 33.0659\n",
      "Epoch 46/100\n",
      "71/71 [==============================] - 0s 4ms/step - loss: 69.6385 - val_loss: 35.9503\n",
      "Epoch 47/100\n",
      "71/71 [==============================] - 0s 4ms/step - loss: 69.5547 - val_loss: 33.4193\n",
      "Epoch 48/100\n",
      "71/71 [==============================] - 0s 3ms/step - loss: 69.1130 - val_loss: 35.4106\n",
      "Epoch 49/100\n",
      "71/71 [==============================] - 0s 4ms/step - loss: 68.7815 - val_loss: 34.4753\n",
      "Epoch 50/100\n",
      "71/71 [==============================] - 0s 4ms/step - loss: 69.1227 - val_loss: 36.6965\n",
      "Epoch 51/100\n",
      "71/71 [==============================] - 0s 4ms/step - loss: 69.1318 - val_loss: 36.1536\n",
      "Epoch 52/100\n",
      "71/71 [==============================] - 0s 4ms/step - loss: 68.3140 - val_loss: 37.2989\n",
      "Epoch 53/100\n",
      "71/71 [==============================] - 0s 4ms/step - loss: 68.9999 - val_loss: 35.7321\n",
      "Epoch 54/100\n",
      "71/71 [==============================] - 0s 4ms/step - loss: 68.6004 - val_loss: 33.1882\n",
      "Epoch 55/100\n",
      "71/71 [==============================] - 0s 3ms/step - loss: 68.2938 - val_loss: 36.2061\n",
      "Epoch 56/100\n",
      "71/71 [==============================] - 0s 4ms/step - loss: 68.4890 - val_loss: 36.4474\n",
      "Epoch 57/100\n",
      "71/71 [==============================] - 0s 4ms/step - loss: 68.4108 - val_loss: 33.5186\n",
      "Epoch 58/100\n",
      "71/71 [==============================] - 0s 4ms/step - loss: 68.2413 - val_loss: 37.1640\n",
      "Epoch 59/100\n",
      "71/71 [==============================] - 0s 4ms/step - loss: 67.4731 - val_loss: 34.2363\n",
      "Epoch 60/100\n",
      "71/71 [==============================] - 0s 4ms/step - loss: 67.6081 - val_loss: 33.6112\n",
      "Epoch 61/100\n",
      "71/71 [==============================] - 0s 4ms/step - loss: 68.1119 - val_loss: 35.6119\n",
      "Epoch 62/100\n",
      "71/71 [==============================] - 0s 4ms/step - loss: 67.9267 - val_loss: 34.9569\n",
      "Epoch 63/100\n",
      "71/71 [==============================] - 0s 4ms/step - loss: 67.6597 - val_loss: 35.9528\n",
      "Epoch 64/100\n",
      "71/71 [==============================] - 0s 3ms/step - loss: 67.6185 - val_loss: 33.6732\n",
      "Epoch 65/100\n",
      "71/71 [==============================] - 0s 4ms/step - loss: 67.4399 - val_loss: 33.7930\n",
      "Epoch 66/100\n",
      "71/71 [==============================] - 0s 4ms/step - loss: 68.1744 - val_loss: 32.8059\n",
      "Epoch 67/100\n",
      "71/71 [==============================] - 0s 4ms/step - loss: 67.1901 - val_loss: 34.4275\n",
      "Epoch 68/100\n",
      "71/71 [==============================] - 0s 4ms/step - loss: 66.8992 - val_loss: 35.3914\n",
      "Epoch 69/100\n",
      "71/71 [==============================] - 0s 4ms/step - loss: 66.9367 - val_loss: 32.7148\n",
      "Epoch 70/100\n",
      "71/71 [==============================] - 0s 4ms/step - loss: 66.6688 - val_loss: 38.3428\n",
      "Epoch 71/100\n",
      "71/71 [==============================] - 0s 4ms/step - loss: 67.0752 - val_loss: 33.2789\n",
      "Epoch 72/100\n",
      "71/71 [==============================] - 0s 4ms/step - loss: 66.5473 - val_loss: 34.2137\n",
      "Epoch 73/100\n",
      "71/71 [==============================] - 0s 4ms/step - loss: 66.3484 - val_loss: 34.7692\n",
      "Epoch 74/100\n",
      "71/71 [==============================] - 0s 4ms/step - loss: 67.8938 - val_loss: 36.0157\n",
      "Epoch 75/100\n",
      "71/71 [==============================] - 0s 4ms/step - loss: 66.6121 - val_loss: 33.4673\n",
      "Epoch 76/100\n",
      "71/71 [==============================] - 0s 4ms/step - loss: 66.7812 - val_loss: 33.8768\n",
      "Epoch 77/100\n",
      "71/71 [==============================] - 0s 4ms/step - loss: 67.0079 - val_loss: 35.9620\n",
      "Epoch 78/100\n",
      "71/71 [==============================] - 0s 4ms/step - loss: 67.3978 - val_loss: 38.8688\n",
      "Epoch 79/100\n",
      "71/71 [==============================] - 0s 4ms/step - loss: 67.0489 - val_loss: 32.8309\n",
      "Epoch 80/100\n",
      "71/71 [==============================] - 0s 3ms/step - loss: 66.5290 - val_loss: 39.1731\n",
      "Epoch 81/100\n"
     ]
    },
    {
     "name": "stdout",
     "output_type": "stream",
     "text": [
      "71/71 [==============================] - 0s 3ms/step - loss: 66.1165 - val_loss: 34.9865\n",
      "Epoch 82/100\n",
      "71/71 [==============================] - 0s 3ms/step - loss: 65.8226 - val_loss: 33.5063\n",
      "Epoch 83/100\n",
      "71/71 [==============================] - 0s 4ms/step - loss: 66.2935 - val_loss: 35.2629\n",
      "Epoch 84/100\n",
      "71/71 [==============================] - 0s 4ms/step - loss: 66.7734 - val_loss: 34.5617\n",
      "Epoch 85/100\n",
      "71/71 [==============================] - 0s 4ms/step - loss: 66.2905 - val_loss: 37.8199\n",
      "Epoch 86/100\n",
      "71/71 [==============================] - 0s 4ms/step - loss: 65.8914 - val_loss: 34.1644\n",
      "Epoch 87/100\n",
      "71/71 [==============================] - 0s 3ms/step - loss: 65.9083 - val_loss: 33.9719\n",
      "Epoch 88/100\n",
      "71/71 [==============================] - 0s 4ms/step - loss: 65.5198 - val_loss: 33.9920\n",
      "Epoch 89/100\n",
      "71/71 [==============================] - 0s 4ms/step - loss: 65.4072 - val_loss: 36.3175\n",
      "Epoch 90/100\n",
      "71/71 [==============================] - 0s 4ms/step - loss: 65.6926 - val_loss: 38.6422\n",
      "Epoch 91/100\n",
      "71/71 [==============================] - 0s 4ms/step - loss: 65.4994 - val_loss: 32.8686\n",
      "Epoch 92/100\n",
      "71/71 [==============================] - 0s 4ms/step - loss: 65.8374 - val_loss: 39.0410\n",
      "Epoch 93/100\n",
      "71/71 [==============================] - 0s 4ms/step - loss: 65.5613 - val_loss: 33.9144\n",
      "Epoch 94/100\n",
      "71/71 [==============================] - 0s 4ms/step - loss: 66.0895 - val_loss: 33.5164\n",
      "Epoch 95/100\n",
      "71/71 [==============================] - 0s 4ms/step - loss: 64.9756 - val_loss: 34.7838\n",
      "Epoch 96/100\n",
      "71/71 [==============================] - 0s 3ms/step - loss: 65.3343 - val_loss: 35.7446\n",
      "Epoch 97/100\n",
      "71/71 [==============================] - 0s 4ms/step - loss: 64.8617 - val_loss: 34.0749\n",
      "Epoch 98/100\n",
      "71/71 [==============================] - 0s 4ms/step - loss: 64.8423 - val_loss: 33.2581\n",
      "Epoch 99/100\n",
      "71/71 [==============================] - 0s 4ms/step - loss: 64.8817 - val_loss: 33.7442\n",
      "Epoch 100/100\n",
      "71/71 [==============================] - 0s 4ms/step - loss: 65.6230 - val_loss: 34.0124\n",
      "89/89 [==============================] - 0s 2ms/step\n"
     ]
    }
   ],
   "source": [
    "model = Sequential()\n",
    "model.add(Dense(128, input_dim=x_train_mm.shape[1], activation='relu'))\n",
    "model.add(Dense(32, activation='relu'))\n",
    "model.add(Dense(1, activation='linear'))\n",
    "\n",
    "model.compile(loss='mean_squared_error', optimizer=Adam(lr=0.001))\n",
    "\n",
    "history = model.fit(x_train_mm, y_train, epochs=100, batch_size=32, verbose=1, validation_split=0.2)\n",
    "\n",
    "y_pred_nn = model.predict(x_train_mm)\n",
    "\n",
    "mae_nn = mean_absolute_error(y_train, y_pred_nn)\n",
    "mape_nn = mean_absolute_percentage_error(y_train, y_pred_nn)"
   ]
  },
  {
   "cell_type": "code",
   "execution_count": 37,
   "metadata": {},
   "outputs": [
    {
     "name": "stdout",
     "output_type": "stream",
     "text": [
      "MLP MAE: 5.347209016644913\n",
      "MLP MAPE: 0.13952068293667338\n"
     ]
    }
   ],
   "source": [
    "# 결과 출력\n",
    "print(\"MLP MAE:\", mae_nn)\n",
    "print(\"MLP MAPE:\", mape_nn)"
   ]
  },
  {
   "cell_type": "code",
   "execution_count": 38,
   "metadata": {},
   "outputs": [
    {
     "name": "stdout",
     "output_type": "stream",
     "text": [
      "3/3 [==============================] - 0s 4ms/step - loss: 46.5736\n",
      "3/3 [==============================] - 0s 4ms/step\n",
      "Test Loss: 46.57362747192383\n",
      "Test MAE: 5.206529910747822\n",
      "Test MAPE: 0.12783942209599447\n"
     ]
    }
   ],
   "source": [
    "test_loss = model.evaluate(x_test_mm, y_test)\n",
    "\n",
    "# 테스트 데이터의 MAE 및 MAPE 계산\n",
    "y_pred_test = model.predict(x_test_mm)\n",
    "mae_test = mean_absolute_error(y_test, y_pred_test)\n",
    "mape_test = mean_absolute_percentage_error(y_test, y_pred_test)\n",
    "\n",
    "# 결과 출력\n",
    "print(\"Test Loss:\", test_loss)\n",
    "print(\"Test MAE:\", mae_test)\n",
    "print(\"Test MAPE:\", mape_test)"
   ]
  },
  {
   "cell_type": "markdown",
   "metadata": {},
   "source": [
    "---"
   ]
  },
  {
   "cell_type": "markdown",
   "metadata": {
    "id": "pGilyDYJbssI"
   },
   "source": [
    "#### 2) 모델2"
   ]
  },
  {
   "cell_type": "code",
   "execution_count": 39,
   "metadata": {},
   "outputs": [],
   "source": [
    "from tensorflow.keras.models import Sequential\n",
    "from tensorflow.keras.layers import Dense, BatchNormalization, Dropout\n",
    "from tensorflow.keras.optimizers import Adam\n",
    "from tensorflow.keras.callbacks import EarlyStopping\n",
    "from sklearn.metrics import mean_absolute_error, mean_absolute_percentage_error\n"
   ]
  },
  {
   "cell_type": "code",
   "execution_count": 46,
   "metadata": {
    "scrolled": true
   },
   "outputs": [
    {
     "name": "stdout",
     "output_type": "stream",
     "text": [
      "Epoch 1/300\n",
      "71/71 [==============================] - 2s 7ms/step - loss: 1169.7775 - val_loss: 600.0005\n",
      "Epoch 2/300\n",
      "71/71 [==============================] - 0s 4ms/step - loss: 328.5208 - val_loss: 456.2047\n",
      "Epoch 3/300\n",
      "71/71 [==============================] - 0s 4ms/step - loss: 271.1026 - val_loss: 314.5643\n",
      "Epoch 4/300\n",
      "71/71 [==============================] - 0s 4ms/step - loss: 276.1041 - val_loss: 180.4105\n",
      "Epoch 5/300\n",
      "71/71 [==============================] - 0s 4ms/step - loss: 243.2159 - val_loss: 78.8229\n",
      "Epoch 6/300\n",
      "71/71 [==============================] - 0s 4ms/step - loss: 228.4097 - val_loss: 72.3088\n",
      "Epoch 7/300\n",
      "71/71 [==============================] - 0s 4ms/step - loss: 225.9768 - val_loss: 52.8763\n",
      "Epoch 8/300\n",
      "71/71 [==============================] - 0s 4ms/step - loss: 200.1239 - val_loss: 39.7480\n",
      "Epoch 9/300\n",
      "71/71 [==============================] - 0s 4ms/step - loss: 190.4412 - val_loss: 41.1058\n",
      "Epoch 10/300\n",
      "71/71 [==============================] - 0s 4ms/step - loss: 187.1675 - val_loss: 39.8493\n",
      "Epoch 11/300\n",
      "71/71 [==============================] - 0s 5ms/step - loss: 186.4695 - val_loss: 35.7450\n",
      "Epoch 12/300\n",
      "71/71 [==============================] - 0s 5ms/step - loss: 166.9013 - val_loss: 38.8120\n",
      "Epoch 13/300\n",
      "71/71 [==============================] - 0s 4ms/step - loss: 179.0007 - val_loss: 35.9057\n",
      "Epoch 14/300\n",
      "71/71 [==============================] - 0s 4ms/step - loss: 181.1945 - val_loss: 37.3356\n",
      "Epoch 15/300\n",
      "71/71 [==============================] - 0s 4ms/step - loss: 169.9984 - val_loss: 47.0657\n",
      "Epoch 16/300\n",
      "71/71 [==============================] - 0s 4ms/step - loss: 155.5943 - val_loss: 36.5837\n",
      "89/89 [==============================] - 0s 2ms/step\n",
      "Neural Network MAE: 5.899692762125507\n",
      "Neural Network MAPE: 0.15417152751701216\n"
     ]
    }
   ],
   "source": [
    "\n",
    "model = Sequential()\n",
    "\n",
    "model.add(Dense(128, input_dim=x_train_mm.shape[1], activation='relu'))\n",
    "model.add(BatchNormalization())\n",
    "\n",
    "model.add(Dense(32, activation='swish'))\n",
    "model.add(Dropout(0.5))  \n",
    "\n",
    "model.add(Dense(1, activation='swish'))\n",
    "\n",
    "optimizer = Adam(learning_rate=0.002)\n",
    "model.compile(loss='mean_squared_error', optimizer=optimizer)\n",
    "\n",
    "early_stopping = EarlyStopping(monitor='val_loss', patience=5, restore_best_weights=True)\n",
    "\n",
    "history = model.fit(\n",
    "    x_train_mm, y_train, \n",
    "    epochs=300, batch_size=32, verbose=1, \n",
    "    validation_split=0.2,\n",
    "    callbacks=[early_stopping]\n",
    ")\n",
    "\n",
    "\n",
    "y_pred_nn = model.predict(x_train_mm)\n",
    "\n",
    "\n",
    "mae_nn = mean_absolute_error(y_train, y_pred_nn)\n",
    "mape_nn = mean_absolute_percentage_error(y_train, y_pred_nn)\n",
    "print(\"Neural Network MAE:\", mae_nn)\n",
    "print(\"Neural Network MAPE:\", mape_nn)\n"
   ]
  },
  {
   "cell_type": "code",
   "execution_count": 47,
   "metadata": {},
   "outputs": [
    {
     "name": "stdout",
     "output_type": "stream",
     "text": [
      "3/3 [==============================] - 0s 4ms/step - loss: 50.1840\n",
      "3/3 [==============================] - 0s 2ms/step\n",
      "Test Loss: 50.18401336669922\n",
      "Test MAE: 5.3835516290350265\n",
      "Test MAPE: 0.12460078655301454\n"
     ]
    }
   ],
   "source": [
    "test_loss = model.evaluate(x_test_mm, y_test)\n",
    "\n",
    "# 테스트 데이터의 MAE 및 MAPE 계산\n",
    "y_pred_test = model.predict(x_test_mm)\n",
    "mae_test = mean_absolute_error(y_test, y_pred_test)\n",
    "mape_test = mean_absolute_percentage_error(y_test, y_pred_test)\n",
    "\n",
    "# 결과 출력\n",
    "print(\"Test Loss:\", test_loss)\n",
    "print(\"Test MAE:\", mae_test)\n",
    "print(\"Test MAPE:\", mape_test)"
   ]
  },
  {
   "cell_type": "code",
   "execution_count": 461,
   "metadata": {
    "id": "zSNzQLVVtTLc"
   },
   "outputs": [],
   "source": [
    "# # 실제값과 예측값 시각화\n",
    "# plt.plot(y_train, label='실제값', marker='o')\n",
    "# plt.plot(y_pred_nn, label='예측값', marker='x')\n",
    "# plt.legend()\n",
    "# plt.xlabel('샘플 인덱스')\n",
    "# plt.ylabel('값')\n",
    "# plt.title('MLP 결과 시각화')\n",
    "# plt.show()"
   ]
  },
  {
   "cell_type": "markdown",
   "metadata": {
    "id": "ePyVFIC3tTlq"
   },
   "source": [
    "___"
   ]
  },
  {
   "cell_type": "markdown",
   "metadata": {
    "id": "pGilyDYJbssI"
   },
   "source": [
    "#### 3) 모델3"
   ]
  },
  {
   "cell_type": "code",
   "execution_count": 51,
   "metadata": {},
   "outputs": [],
   "source": [
    "import tensorflow as tf\n",
    "from tensorflow import keras\n",
    "\n",
    "from tensorflow.keras.backend import clear_session\n",
    "from tensorflow.keras.models import Model\n",
    "from tensorflow.keras.layers import Input, Dense, Flatten, Conv2D, MaxPool2D, BatchNormalization, Dropout\n",
    "\n",
    "from keras.layers import Input, Conv2D, MaxPool2D, Flatten, Dense, BatchNormalization, Dropout\n"
   ]
  },
  {
   "cell_type": "code",
   "execution_count": 78,
   "metadata": {
    "id": "_6cYoyTetV5Y"
   },
   "outputs": [
    {
     "name": "stdout",
     "output_type": "stream",
     "text": [
      "(2830, 19) (2830,)\n"
     ]
    }
   ],
   "source": [
    "print(x_train_mm.shape, y_train.shape)"
   ]
  },
  {
   "cell_type": "code",
   "execution_count": 123,
   "metadata": {
    "id": "7sgaOwvntV5Z"
   },
   "outputs": [
    {
     "name": "stdout",
     "output_type": "stream",
     "text": [
      "Model: \"model_12\"\n",
      "_________________________________________________________________\n",
      " Layer (type)                Output Shape              Param #   \n",
      "=================================================================\n",
      " input_13 (InputLayer)       [(None, 19)]              0         \n",
      "                                                                 \n",
      " flatten_12 (Flatten)        (None, 19)                0         \n",
      "                                                                 \n",
      " dense_50 (Dense)            (None, 256)               5120      \n",
      "                                                                 \n",
      " dropout_32 (Dropout)        (None, 256)               0         \n",
      "                                                                 \n",
      " dense_51 (Dense)            (None, 128)               32896     \n",
      "                                                                 \n",
      " dropout_33 (Dropout)        (None, 128)               0         \n",
      "                                                                 \n",
      " dense_52 (Dense)            (None, 64)                8256      \n",
      "                                                                 \n",
      " dropout_34 (Dropout)        (None, 64)                0         \n",
      "                                                                 \n",
      " dense_53 (Dense)            (None, 32)                2080      \n",
      "                                                                 \n",
      " dropout_35 (Dropout)        (None, 32)                0         \n",
      "                                                                 \n",
      " dense_54 (Dense)            (None, 1)                 33        \n",
      "                                                                 \n",
      "=================================================================\n",
      "Total params: 48385 (189.00 KB)\n",
      "Trainable params: 48385 (189.00 KB)\n",
      "Non-trainable params: 0 (0.00 Byte)\n",
      "_________________________________________________________________\n"
     ]
    }
   ],
   "source": [
    "X = tf.keras.Input(shape=[19])\n",
    "H = tf.keras.layers.Flatten()(X)\n",
    "H = tf.keras.layers.Dense(256, activation='swish')(H)\n",
    "H = Dropout(0.25)(H)\n",
    "H = tf.keras.layers.Dense(128, activation='swish')(H)\n",
    "H = Dropout(0.25)(H)\n",
    "H = tf.keras.layers.Dense(64, activation='swish')(H)\n",
    "H = Dropout(0.25)(H)\n",
    "H = tf.keras.layers.Dense(32, activation='swish')(H)\n",
    "H = Dropout(0.25)(H)\n",
    "Y = tf.keras.layers.Dense(1)(H)\n",
    "\n",
    "model = tf.keras.Model(X, Y)\n",
    "model.compile(loss='mse')\n",
    "model.summary()"
   ]
  },
  {
   "cell_type": "code",
   "execution_count": 124,
   "metadata": {},
   "outputs": [],
   "source": [
    "es = EarlyStopping(monitor='val_loss',       # 얼리스토핑을 적용할 관측 대상\n",
    "                   min_delta=0,              # Threshold. 설정 값 이상으로 변해야 성능 개선!\n",
    "                   patience=10,               # 성능 개선이 없을 때, 몇 epochs 더 볼 것인가.\n",
    "                   verbose=1,\n",
    "                   restore_best_weights=True # 가장 성능이 좋은 epoch의 가중치로 돌려줌!\n",
    "                   )"
   ]
  },
  {
   "cell_type": "code",
   "execution_count": 125,
   "metadata": {
    "scrolled": true
   },
   "outputs": [
    {
     "name": "stdout",
     "output_type": "stream",
     "text": [
      "Epoch 1/10000\n",
      "71/71 [==============================] - 2s 10ms/step - loss: 563.0603 - val_loss: 109.2855\n",
      "Epoch 2/10000\n",
      "71/71 [==============================] - 1s 7ms/step - loss: 211.0814 - val_loss: 64.5703\n",
      "Epoch 3/10000\n",
      "71/71 [==============================] - 0s 7ms/step - loss: 184.5075 - val_loss: 51.0438\n",
      "Epoch 4/10000\n",
      "71/71 [==============================] - 0s 7ms/step - loss: 167.6138 - val_loss: 43.2596\n",
      "Epoch 5/10000\n",
      "71/71 [==============================] - 0s 7ms/step - loss: 157.6487 - val_loss: 41.5452\n",
      "Epoch 6/10000\n",
      "71/71 [==============================] - 1s 7ms/step - loss: 155.7772 - val_loss: 40.6745\n",
      "Epoch 7/10000\n",
      "71/71 [==============================] - 0s 7ms/step - loss: 149.2989 - val_loss: 41.2019\n",
      "Epoch 8/10000\n",
      "71/71 [==============================] - 0s 6ms/step - loss: 143.9792 - val_loss: 41.8951\n",
      "Epoch 9/10000\n",
      "71/71 [==============================] - 0s 6ms/step - loss: 146.7279 - val_loss: 39.4833\n",
      "Epoch 10/10000\n",
      "71/71 [==============================] - 0s 7ms/step - loss: 143.6651 - val_loss: 37.9553\n",
      "Epoch 11/10000\n",
      "71/71 [==============================] - 0s 7ms/step - loss: 135.5174 - val_loss: 37.0306\n",
      "Epoch 12/10000\n",
      "71/71 [==============================] - 0s 7ms/step - loss: 135.0072 - val_loss: 44.7417\n",
      "Epoch 13/10000\n",
      "71/71 [==============================] - 0s 7ms/step - loss: 137.8713 - val_loss: 41.0993\n",
      "Epoch 14/10000\n",
      "71/71 [==============================] - 1s 7ms/step - loss: 129.9101 - val_loss: 40.0740\n",
      "Epoch 15/10000\n",
      "71/71 [==============================] - 0s 7ms/step - loss: 136.7621 - val_loss: 39.0281\n",
      "Epoch 16/10000\n",
      "71/71 [==============================] - 0s 7ms/step - loss: 128.1341 - val_loss: 37.1142\n",
      "Epoch 17/10000\n",
      "71/71 [==============================] - 0s 7ms/step - loss: 127.3782 - val_loss: 49.0699\n",
      "Epoch 18/10000\n",
      "71/71 [==============================] - 0s 7ms/step - loss: 130.1169 - val_loss: 36.5160\n",
      "Epoch 19/10000\n",
      "71/71 [==============================] - 0s 7ms/step - loss: 125.9043 - val_loss: 35.8979\n",
      "Epoch 20/10000\n",
      "71/71 [==============================] - 0s 6ms/step - loss: 128.7271 - val_loss: 35.2695\n",
      "Epoch 21/10000\n",
      "71/71 [==============================] - 1s 7ms/step - loss: 129.4470 - val_loss: 41.1327\n",
      "Epoch 22/10000\n",
      "71/71 [==============================] - 0s 7ms/step - loss: 121.7610 - val_loss: 38.0680\n",
      "Epoch 23/10000\n",
      "71/71 [==============================] - 0s 6ms/step - loss: 119.5307 - val_loss: 45.9047\n",
      "Epoch 24/10000\n",
      "71/71 [==============================] - 0s 7ms/step - loss: 121.5284 - val_loss: 33.5366\n",
      "Epoch 25/10000\n",
      "71/71 [==============================] - 0s 6ms/step - loss: 122.1705 - val_loss: 36.1628\n",
      "Epoch 26/10000\n",
      "71/71 [==============================] - 1s 7ms/step - loss: 118.6107 - val_loss: 47.6406\n",
      "Epoch 27/10000\n",
      "71/71 [==============================] - 0s 6ms/step - loss: 122.5191 - val_loss: 36.6744\n",
      "Epoch 28/10000\n",
      "71/71 [==============================] - 0s 6ms/step - loss: 123.1499 - val_loss: 35.4050\n",
      "Epoch 29/10000\n",
      "71/71 [==============================] - 0s 7ms/step - loss: 114.9413 - val_loss: 34.4892\n",
      "Epoch 30/10000\n",
      "71/71 [==============================] - 0s 7ms/step - loss: 116.6456 - val_loss: 31.5733\n",
      "Epoch 31/10000\n",
      "71/71 [==============================] - 1s 7ms/step - loss: 121.5663 - val_loss: 39.8579\n",
      "Epoch 32/10000\n",
      "71/71 [==============================] - 0s 7ms/step - loss: 119.7925 - val_loss: 37.4898\n",
      "Epoch 33/10000\n",
      "71/71 [==============================] - 1s 7ms/step - loss: 118.2352 - val_loss: 40.0539\n",
      "Epoch 34/10000\n",
      "71/71 [==============================] - 0s 7ms/step - loss: 114.8649 - val_loss: 33.3840\n",
      "Epoch 35/10000\n",
      "71/71 [==============================] - 0s 7ms/step - loss: 113.4885 - val_loss: 34.2276\n",
      "Epoch 36/10000\n",
      "71/71 [==============================] - 0s 6ms/step - loss: 114.6216 - val_loss: 36.0389\n",
      "Epoch 37/10000\n",
      "71/71 [==============================] - 0s 7ms/step - loss: 116.7253 - val_loss: 48.6668\n",
      "Epoch 38/10000\n",
      "71/71 [==============================] - 0s 7ms/step - loss: 114.6546 - val_loss: 33.6344\n",
      "Epoch 39/10000\n",
      "71/71 [==============================] - 0s 6ms/step - loss: 116.8408 - val_loss: 41.5621\n",
      "Epoch 40/10000\n",
      "66/71 [==========================>...] - ETA: 0s - loss: 107.9860Restoring model weights from the end of the best epoch: 30.\n",
      "71/71 [==============================] - 0s 7ms/step - loss: 109.3116 - val_loss: 39.2208\n",
      "Epoch 40: early stopping\n"
     ]
    }
   ],
   "source": [
    "hist = model.fit(x_train_mm, y_train, epochs=10000, verbose=1,\n",
    "                 validation_split=0.2, # training set에서 20%를 validation set으로 만듬!\n",
    "                 callbacks=[es]        # 얼리스토핑 적용!\n",
    "                 )"
   ]
  },
  {
   "cell_type": "code",
   "execution_count": 126,
   "metadata": {
    "scrolled": true
   },
   "outputs": [
    {
     "name": "stdout",
     "output_type": "stream",
     "text": [
      "3/3 [==============================] - 0s 3ms/step\n",
      "평균 제곱 오차 (MSE): 38.82440784422278\n",
      "평균 절대 오차 (MAE): 4.641844768314571\n",
      "평균 절대 백분율 오차 (MAPE): 0.11009650776251766\n"
     ]
    }
   ],
   "source": [
    "import numpy as np\n",
    "y_pred = model.predict(x_test_mm) \n",
    "\n",
    "mse = mean_squared_error(y_test, y_pred)\n",
    "mae = mean_absolute_error(y_test, y_pred)\n",
    "mape = mean_absolute_percentage_error(y_test, y_pred)\n",
    "\n",
    "print(\"평균 제곱 오차 (MSE):\", mse)\n",
    "print(\"평균 절대 오차 (MAE):\", mae)\n",
    "print(\"평균 절대 백분율 오차 (MAPE):\", mape)"
   ]
  },
  {
   "cell_type": "code",
   "execution_count": null,
   "metadata": {},
   "outputs": [],
   "source": [
    "model.get_weights()"
   ]
  },
  {
   "cell_type": "markdown",
   "metadata": {},
   "source": [
    "---"
   ]
  },
  {
   "cell_type": "markdown",
   "metadata": {
    "id": "Ik2DNmAC0Zzd"
   },
   "source": [
    "## 4.모델 비교\n",
    "* **세부요구사항**\n",
    "    * 모델링 단계에서 생성한 모든 모델의 성능을 하나로 모아서 비교합니다.\n",
    "    * 가장 성능이 높은 모델을 선정합니다."
   ]
  },
  {
   "cell_type": "code",
   "execution_count": null,
   "metadata": {
    "id": "qISwMmIK65i1"
   },
   "outputs": [],
   "source": []
  },
  {
   "cell_type": "code",
   "execution_count": null,
   "metadata": {
    "id": "431fKlaTeCWg"
   },
   "outputs": [],
   "source": []
  },
  {
   "cell_type": "code",
   "execution_count": null,
   "metadata": {
    "id": "CRKzHZwbqVkP"
   },
   "outputs": [],
   "source": []
  }
 ],
 "metadata": {
  "colab": {
   "provenance": [
    {
     "file_id": "1rAhFiA-Ujmt8relY5oG0amSLXnIVJ7Fu",
     "timestamp": 1676287923203
    }
   ],
   "toc_visible": true
  },
  "kernelspec": {
   "display_name": "Python 3 (ipykernel)",
   "language": "python",
   "name": "python3"
  },
  "language_info": {
   "codemirror_mode": {
    "name": "ipython",
    "version": 3
   },
   "file_extension": ".py",
   "mimetype": "text/x-python",
   "name": "python",
   "nbconvert_exporter": "python",
   "pygments_lexer": "ipython3",
   "version": "3.11.3"
  }
 },
 "nbformat": 4,
 "nbformat_minor": 1
}
